{
  "cells": [
    {
      "cell_type": "markdown",
      "metadata": {},
      "source": [
        "Bu kod, XOR problemini çözmek için iki katmanlı (bir gizli katman ve bir çıktı katmanı) bir sinir ağı kullanarak delta öğrenme kuralını uygulamaktadır."
      ]
    },
    {
      "cell_type": "code",
      "execution_count": null,
      "metadata": {
        "id": "14jwp-fUZx6L"
      },
      "outputs": [],
      "source": [
        "import numpy as np\n",
        "\n",
        "# Define the activation function (sigmoid)\n",
        "def sigmoid(x):\n",
        "    return 1 / (1 + np.exp(-x))\n",
        "\n",
        "# Define the derivative of the activation function\n",
        "def sigmoid_derivative(x):\n",
        "    return x * (1 - x)\n"
      ]
    },
    {
      "cell_type": "markdown",
      "metadata": {},
      "source": [
        "* sigmoid(x) fonksiyonu, giriş değeri x için sigmoid aktivasyon fonksiyonunu hesaplar.\n",
        "* sigmoid_derivative(x) fonksiyonu, sigmoid fonksiyonunun türevini hesaplar. Bu türev, geri yayılım sırasında hatanın ağırlıklara nasıl etki ettiğini hesaplamak için kullanılır."
      ]
    },
    {
      "cell_type": "code",
      "execution_count": null,
      "metadata": {
        "id": "2dmmQzzia3kx"
      },
      "outputs": [],
      "source": [
        "\n",
        "# Define the delta learning rule function for a two-layered network\n",
        "def delta_learning_rule_two_layer(input_data, target_output, hidden_neurons, learning_rate, epochs):\n",
        "    # Initialize random weights\n",
        "    np.random.seed(1)\n",
        "    giris_sayisi=2\n",
        "    synaptic_weights1 = 2 * np.random.random((giris_sayisi, hidden_neurons)) - 1\n",
        "    synaptic_weights2 = 2 * np.random.random((hidden_neurons, 1)) - 1\n",
        "    for epoch in range(epochs):\n",
        "        # Forward propagation\n",
        "        hidden_layer = sigmoid(np.dot(input_data, synaptic_weights1))\n",
        "        output_layer = sigmoid(np.dot(hidden_layer, synaptic_weights2))\n",
        "\n",
        "        # Calculate the error\n",
        "        error = target_output - output_layer\n",
        "\n",
        "        # Backpropagation\n",
        "        output_delta = error * sigmoid_derivative(output_layer)\n",
        "        hidden_error = output_delta.dot(synaptic_weights2.T)\n",
        "        hidden_delta = hidden_error * sigmoid_derivative(hidden_layer)\n",
        "\n",
        "        # Update the weights\n",
        "        synaptic_weights2 += learning_rate * hidden_layer.T.dot(output_delta)\n",
        "        synaptic_weights1 += learning_rate * input_data.T.dot(hidden_delta)\n",
        "\n",
        "    return synaptic_weights1, synaptic_weights2\n",
        "\n",
        "\n"
      ]
    },
    {
      "cell_type": "markdown",
      "metadata": {},
      "source": [
        "   - Girdi verilerini, hedef çıktıları, gizli katman nöron sayısını, öğrenme oranını ve epoch (iterasyon) sayısını parametre olarak alır.\n",
        "   - Rastgele ağırlıkları başlatır.\n",
        "   - Belirtilen epoch sayısı kadar eğitim döngüsü gerçekleştirir.\n",
        "   - İleri yayılım yaparak gizli katman ve çıktı katmanı çıktıları hesaplanır.\n",
        "   - Hata hesaplanır ve geri yayılım ile ağırlıklar güncellenir."
      ]
    },
    {
      "cell_type": "code",
      "execution_count": null,
      "metadata": {
        "colab": {
          "base_uri": "https://localhost:8080/"
        },
        "id": "90no3MgDa6K1",
        "outputId": "1045b48b-d3d5-4a19-8392-8281f1a60bbd"
      },
      "outputs": [
        {
          "name": "stdout",
          "output_type": "stream",
          "text": [
            "Trained synaptic weights for the first layer:\n",
            "[[ 1.01820484  2.54064388 -5.17301449 -5.47102891]\n",
            " [ 0.19820196 -5.75544506 -5.23444398  2.3442128 ]]\n",
            "Trained synaptic weights for the second layer:\n",
            "[[ -3.42859423]\n",
            " [  5.2697904 ]\n",
            " [-11.05641271]\n",
            " [  4.72594872]]\n"
          ]
        }
      ],
      "source": [
        "# Define the XOR problem data\n",
        "input_data = np.array([[0, 0],\n",
        "                       [0, 1],\n",
        "                       [1, 0],\n",
        "                       [1, 1]])\n",
        "\n",
        "target_output = np.array([[0, 1, 1, 0]]).T\n",
        "\n",
        "# Set the number of hidden neurons, learning rate, and number of epochs\n",
        "hidden_neurons = 4\n",
        "learning_rate = 0.1\n",
        "epochs = 10000\n",
        "\n",
        "# Apply the delta learning rule to solve the XOR problem with a two-layered network\n",
        "synaptic_weights1, synaptic_weights2 = delta_learning_rule_two_layer(input_data, target_output, hidden_neurons, learning_rate, epochs)\n",
        "\n",
        "# Print the trained weights\n",
        "print(\"Trained synaptic weights for the first layer:\")\n",
        "print(synaptic_weights1)\n",
        "print(\"Trained synaptic weights for the second layer:\")\n",
        "print(synaptic_weights2)\n",
        "\n"
      ]
    },
    {
      "cell_type": "markdown",
      "metadata": {},
      "source": [
        "   - XOR problemi için giriş ve hedef çıktı verileri tanımlanır.\n",
        "   - Gizli katman nöron sayısı, öğrenme oranı ve epoch sayısı belirlenir.\n",
        "   - `delta_learning_rule_two_layer` fonksiyonu kullanılarak ağ eğitilir ve eğitilmiş ağırlıklar elde edilir."
      ]
    },
    {
      "cell_type": "markdown",
      "metadata": {},
      "source": [
        "Ağırlık matrisleri, katmanlar arasındaki bağlantıları ve nöronlar arasındaki ağırlıkları temsil eder:\n",
        "- **İlk Katman (Girdi Katmanı - Gizli Katman)**:\n",
        "  - Ağırlık matrisi `synaptic_weights1`, 2x4 boyutundadır. Bu, 2 giriş nöronundan 4 gizli nörona bağlantıları ifade eder.\n",
        "  ```python\n",
        "  synaptic_weights1 = 2 * np.random.random((2, hidden_neurons)) - 1\n",
        "  ```\n",
        "  Çıktı:\n",
        "  ```\n",
        "  [[ 1.01820484  2.54064388 -5.17301449 -5.47102891]\n",
        "   [ 0.19820196 -5.75544506 -5.23444398  2.3442128 ]]\n",
        "  ```\n",
        "\n",
        "- **İkinci Katman (Gizli Katman - Çıktı Katmanı)**:\n",
        "  - Ağırlık matrisi `synaptic_weights2`, 4x1 boyutundadır. Bu, 4 gizli nörondan 1 çıktı nöronuna bağlantıları ifade eder.\n",
        "  ```python\n",
        "  synaptic_weights2 = 2 * np.random.random((hidden_neurons, 1)) - 1\n",
        "  ```\n",
        "  Çıktı:\n",
        "  ```\n",
        "  [[ -3.42859423]\n",
        "   [  5.2697904 ]\n",
        "   [-11.05641271]\n",
        "   [  4.72594872]]\n",
        "  ```\n",
        "\n",
        "### Neden Tek Dizi?\n",
        "Çıktı katmanı yalnızca tek bir nörona sahip olduğundan, bu nöronun tüm gizli katmandaki nöronlarla olan bağlantı ağırlıklarını içeren `synaptic_weights2` matrisi, `hidden_neurons` sayısı kadar satıra ve 1 sütuna sahiptir. Bu nedenle, tek bir sütundan oluşan bir dizi gibi görünür.\n"
      ]
    },
    {
      "cell_type": "code",
      "execution_count": null,
      "metadata": {
        "colab": {
          "base_uri": "https://localhost:8080/"
        },
        "id": "TUBpF8Gda-ih",
        "outputId": "2aa11508-eb1d-4177-e93f-4fcedfdd46f4"
      },
      "outputs": [
        {
          "name": "stdout",
          "output_type": "stream",
          "text": [
            "Predicted output for new inputs:\n",
            "[[0.82191718]\n",
            " [0.51209744]\n",
            " [0.33347586]\n",
            " [0.35837418]]\n"
          ]
        }
      ],
      "source": [
        "# Test the neural network with new inputs\n",
        "new_inputs = np.array([[0.9, 0.2],\n",
        "                       [0.1, 0.2],\n",
        "                       [0.8, 0.5],\n",
        "                       [0.5, 0.5]])\n",
        "\n",
        "hidden_layer_output = sigmoid(np.dot(new_inputs, synaptic_weights1))\n",
        "predicted_output = sigmoid(np.dot(hidden_layer_output, synaptic_weights2))\n",
        "\n",
        "print(\"Predicted output for new inputs:\")\n",
        "print(predicted_output)"
      ]
    },
    {
      "cell_type": "markdown",
      "metadata": {},
      "source": [
        "- Yeni giriş verileri tanımlanır.\n",
        "- Eğitim sırasında öğrenilen ağırlıklar kullanılarak bu yeni girişler için ileri yayılım yapılır ve tahmini çıktılar hesaplanır.\n",
        "- Yeni girişler için tahmin edilen çıktılar yazdırılır.\n"
      ]
    },
    {
      "cell_type": "markdown",
      "metadata": {},
      "source": [
        "Bu değerler, sigmoid aktivasyon fonksiyonundan elde edildiği için [0, 1] aralığında bulunur ve bu da olasılık anlamına gelir. XOR probleminin çıktılarını tahmin ederken, çıktılar 0 veya 1 olmalıdır. Bu durumda:\n",
        "\n",
        "1. **Yeni Girdi: [0.9, 0.2]**\n",
        "   - Tahmin Edilen Çıktı: 0.82191718\n",
        "   - Bu değer 0'a daha yakındır ve sinir ağı bu girişler için çıktının 1 olma olasılığının yüksek olduğunu tahmin etmektedir.\n",
        "   \n",
        "2. **Yeni Girdi: [0.1, 0.2]**\n",
        "   - Tahmin Edilen Çıktı: 0.51209744\n",
        "   - Bu değer 0.5'e yakındır ve sinir ağı bu girişler için çıktının 0 veya 1 olabileceğine dair belirsizlik içindedir.\n",
        "   \n",
        "3. **Yeni Girdi: [0.8, 0.5]**\n",
        "   - Tahmin Edilen Çıktı: 0.33347586\n",
        "   - Bu değer 0'a daha yakındır ve sinir ağı bu girişler için çıktının 0 olma olasılığının yüksek olduğunu tahmin etmektedir.\n",
        "\n",
        "4. **Yeni Girdi: [0.5, 0.5]**\n",
        "   - Tahmin Edilen Çıktı: 0.35837418\n",
        "   - Bu değer de 0'a daha yakındır ve sinir ağı bu girişler için çıktının 0 olma olasılığının yüksek olduğunu tahmin etmektedir.\n",
        "\n",
        "### Yorumlama\n",
        "- **0.5'ten büyük değerler**, ağın bu girdi için 1 çıkmasını beklediğini gösterir.\n",
        "- **0.5'ten küçük değerler**, ağın bu girdi için 0 çıkmasını beklediğini gösterir.\n",
        "\n",
        "XOR problemi için:\n",
        "- Girdi: (0, 0) -> Çıktı: 0\n",
        "- Girdi: (0, 1) -> Çıktı: 1\n",
        "- Girdi: (1, 0) -> Çıktı: 1\n",
        "- Girdi: (1, 1) -> Çıktı: 0\n",
        "\n",
        "Ancak, tahmin edilen değerler arasında bir belirsizlik veya hata olabilir çünkü yeni girişler eğitim verilerinden farklıdır. Eğitim verileriyle tamamen örtüşmeyen yeni girişler için ağın çıktıları daha belirsiz olabilir. Bu yüzden bazı tahminler 0.5'e yakın olabilir.\n"
      ]
    },
    {
      "cell_type": "markdown",
      "metadata": {},
      "source": []
    }
  ],
  "metadata": {
    "colab": {
      "provenance": []
    },
    "kernelspec": {
      "display_name": "Python 3",
      "name": "python3"
    },
    "language_info": {
      "name": "python"
    }
  },
  "nbformat": 4,
  "nbformat_minor": 0
}
